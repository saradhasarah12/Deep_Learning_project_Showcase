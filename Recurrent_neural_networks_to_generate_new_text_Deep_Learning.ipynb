{
  "nbformat": 4,
  "nbformat_minor": 0,
  "metadata": {
    "colab": {
      "provenance": [],
      "authorship_tag": "ABX9TyPOa7G2mW2s/up5qq2BT7Bz",
      "include_colab_link": true
    },
    "kernelspec": {
      "name": "python3",
      "display_name": "Python 3"
    },
    "language_info": {
      "name": "python"
    }
  },
  "cells": [
    {
      "cell_type": "markdown",
      "metadata": {
        "id": "view-in-github",
        "colab_type": "text"
      },
      "source": [
        "<a href=\"https://colab.research.google.com/github/saradhasarah12/Deep_Learning_project_Showcase/blob/main/Recurrent_neural_networks_to_generate_new_text_Deep_Learning.ipynb\" target=\"_parent\"><img src=\"https://colab.research.google.com/assets/colab-badge.svg\" alt=\"Open In Colab\"/></a>"
      ]
    },
    {
      "cell_type": "code",
      "source": [
        "#Import Libraries\n",
        "import random\n",
        "import numpy as np\n",
        "import tensorflow as tf\n",
        "#Load the file and pre-process it\n",
        "filepath = tf.keras.utils.get_file('shakespeare.txt','https://storage.googleapis.com/download.tensorflow.org/data/shakespeare.txt')"
      ],
      "metadata": {
        "colab": {
          "base_uri": "https://localhost:8080/"
        },
        "id": "qsPLMs7k4WhN",
        "outputId": "28ced532-80eb-4330-e3eb-fd3ccf48cf57"
      },
      "execution_count": null,
      "outputs": [
        {
          "output_type": "stream",
          "name": "stdout",
          "text": [
            "Downloading data from https://storage.googleapis.com/download.tensorflow.org/data/shakespeare.txt\n",
            "1115394/1115394 [==============================] - 0s 0us/step\n"
          ]
        }
      ]
    },
    {
      "cell_type": "code",
      "source": [
        "\n",
        "text = open(filepath,'rb').read().decode(encoding='utf-8')\n",
        "text = open(filepath, 'rb').read().decode(encoding='utf-8').lower()\n",
        "text = text[300000:800000]\n",
        "characters = sorted(set(text))\n",
        "char_to_index = dict((c, i) for i, c in enumerate(characters))\n",
        "index_to_char = dict((i, c) for i, c in enumerate(characters))"
      ],
      "metadata": {
        "id": "gJHky6-Q5EIL"
      },
      "execution_count": null,
      "outputs": []
    },
    {
      "cell_type": "code",
      "source": [
        "\n",
        "#Assigning Length and Size\n",
        "SEQ_LENGTH = 90\n",
        "STEP_SIZE = 3\n",
        "sentences = []\n",
        "next_char = []"
      ],
      "metadata": {
        "id": "BJ93CNDj5GSi"
      },
      "execution_count": null,
      "outputs": []
    },
    {
      "cell_type": "code",
      "source": [
        "#Creating x,y set as Train and Test\n",
        "for i in range(0, len(text) - SEQ_LENGTH, STEP_SIZE):\n",
        "  sentences.append(text[i: i + SEQ_LENGTH])\n",
        "  next_char.append(text[i + SEQ_LENGTH])\n",
        "  x = np.zeros((len(sentences), SEQ_LENGTH,\n",
        "  len(characters)), dtype=np.bool)\n",
        "  y = np.zeros((len(sentences),\n",
        "  len(characters)), dtype=np.bool)\n",
        "for i, satz in enumerate(sentences):\n",
        "  for t, char in enumerate(satz):\n",
        "    x[i, t, char_to_index[char]] = 1\n",
        "    y[i, char_to_index[next_char[i]]] = 1"
      ],
      "metadata": {
        "colab": {
          "base_uri": "https://localhost:8080/"
        },
        "id": "4VvXZp085L2q",
        "outputId": "4933589f-36af-424d-9899-3bba65f1da45"
      },
      "execution_count": null,
      "outputs": [
        {
          "output_type": "stream",
          "name": "stderr",
          "text": [
            "<ipython-input-23-1ad6ec7ff51f>:6: DeprecationWarning: `np.bool` is a deprecated alias for the builtin `bool`. To silence this warning, use `bool` by itself. Doing this will not modify any behavior and is safe. If you specifically wanted the numpy scalar type, use `np.bool_` here.\n",
            "Deprecated in NumPy 1.20; for more details and guidance: https://numpy.org/devdocs/release/1.20.0-notes.html#deprecations\n",
            "  len(characters)), dtype=np.bool)\n",
            "<ipython-input-23-1ad6ec7ff51f>:8: DeprecationWarning: `np.bool` is a deprecated alias for the builtin `bool`. To silence this warning, use `bool` by itself. Doing this will not modify any behavior and is safe. If you specifically wanted the numpy scalar type, use `np.bool_` here.\n",
            "Deprecated in NumPy 1.20; for more details and guidance: https://numpy.org/devdocs/release/1.20.0-notes.html#deprecations\n",
            "  len(characters)), dtype=np.bool)\n"
          ]
        }
      ]
    },
    {
      "cell_type": "code",
      "source": [
        "\n",
        "#Model Design and training.\n",
        "import random\n",
        "import numpy as np\n",
        "import tensorflow as tf\n",
        "from tensorflow.keras.models import Sequential\n",
        "from tensorflow.keras.optimizers import RMSprop\n",
        "from tensorflow.keras.layers import Activation, Dense, LSTM"
      ],
      "metadata": {
        "id": "kknjV8Nb5iND"
      },
      "execution_count": null,
      "outputs": []
    },
    {
      "cell_type": "code",
      "source": [
        "model = Sequential()\n",
        "model.add(LSTM(128,input_shape=(SEQ_LENGTH,len(characters))))\n",
        "model.add(Dense(len(characters)))\n",
        "model.add(Activation('softmax'))\n",
        "model.compile(loss='categorical_crossentropy',optimizer=RMSprop(lr=0.01))\n",
        "model.fit(x, y, batch_size=256, epochs=4)"
      ],
      "metadata": {
        "colab": {
          "base_uri": "https://localhost:8080/"
        },
        "id": "BWw8hlxi5p2q",
        "outputId": "16af2642-1679-494a-beb9-a15175fd13b7"
      },
      "execution_count": null,
      "outputs": [
        {
          "output_type": "stream",
          "name": "stderr",
          "text": [
            "WARNING:absl:`lr` is deprecated in Keras optimizer, please use `learning_rate` or use the legacy optimizer, e.g.,tf.keras.optimizers.legacy.RMSprop.\n"
          ]
        },
        {
          "output_type": "stream",
          "name": "stdout",
          "text": [
            "Epoch 1/4\n",
            "651/651 [==============================] - 258s 394ms/step - loss: 2.7043\n",
            "Epoch 2/4\n",
            "651/651 [==============================] - 258s 396ms/step - loss: 2.2955\n",
            "Epoch 3/4\n",
            "651/651 [==============================] - 259s 398ms/step - loss: 2.1800\n",
            "Epoch 4/4\n",
            "651/651 [==============================] - 256s 394ms/step - loss: 2.0985\n"
          ]
        },
        {
          "output_type": "execute_result",
          "data": {
            "text/plain": [
              "<keras.src.callbacks.History at 0x7f92354d6b30>"
            ]
          },
          "metadata": {},
          "execution_count": 25
        }
      ]
    },
    {
      "cell_type": "code",
      "source": [
        "\n",
        "#Defining organizing function\n",
        "def sample(preds, temperature=1.0):\n",
        "  preds = np.asarray(preds).astype('float')\n",
        "  preds = np.log(preds) / temperature\n",
        "  exp_preds = np.exp(preds)\n",
        "  preds = exp_preds / np.sum(exp_preds)\n",
        "  probas = np.random.multinomial(1, preds, 1)\n",
        "  return np.argmax(probas)"
      ],
      "metadata": {
        "id": "ESDJJU9y5tpy"
      },
      "execution_count": null,
      "outputs": []
    },
    {
      "cell_type": "code",
      "execution_count": null,
      "metadata": {
        "id": "pyqRo-X54A4z"
      },
      "outputs": [],
      "source": [
        "\n",
        "#Final text generation function\n",
        "def generate_text(length, temperature):\n",
        "  start_index = random.randint(0, len(text) - SEQ_LENGTH - 1)\n",
        "  generated = ' ';\n",
        "  sentence = text[start_index: start_index + SEQ_LENGTH]\n",
        "  generated += sentence\n",
        "  for i in range(length):\n",
        "    x_predictions = np.zeros((1, SEQ_LENGTH, len(characters)))\n",
        "  for t, char in enumerate(sentence):\n",
        "    x_predictions[0, t, char_to_index[char]] = 1\n",
        "    predictions = model.predict(x_predictions, verbose=0)[0]\n",
        "    next_index = sample(predictions,\n",
        "    temperature)\n",
        "    next_character = index_to_char[next_index]\n",
        "    generated += next_character\n",
        "    sentence = sentence[1:] + next_character\n",
        "  return generated"
      ]
    },
    {
      "cell_type": "code",
      "source": [
        "#Testing text generation function\n",
        "print(generate_text(300, .2))"
      ],
      "metadata": {
        "colab": {
          "base_uri": "https://localhost:8080/"
        },
        "id": "_S7ti5S24Dz0",
        "outputId": "159900dd-caec-4efb-fb93-0f1c604e3865"
      },
      "execution_count": null,
      "outputs": [
        {
          "output_type": "stream",
          "name": "stdout",
          "text": [
            " en, i will not vex your souls--\n",
            "since presently your souls must part your bodies--\n",
            "with to                      e           t         s                                     :t e ae \n"
          ]
        }
      ]
    },
    {
      "cell_type": "code",
      "source": [],
      "metadata": {
        "id": "622y61Bv8605"
      },
      "execution_count": null,
      "outputs": []
    }
  ]
}