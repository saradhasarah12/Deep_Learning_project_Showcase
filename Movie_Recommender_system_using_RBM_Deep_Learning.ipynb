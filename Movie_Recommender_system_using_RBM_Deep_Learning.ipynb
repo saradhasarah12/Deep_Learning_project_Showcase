{
  "nbformat": 4,
  "nbformat_minor": 0,
  "metadata": {
    "colab": {
      "provenance": [],
      "authorship_tag": "ABX9TyMkjPDa0cxBHFdnpTDK4Erw",
      "include_colab_link": true
    },
    "kernelspec": {
      "name": "python3",
      "display_name": "Python 3"
    },
    "language_info": {
      "name": "python"
    }
  },
  "cells": [
    {
      "cell_type": "markdown",
      "metadata": {
        "id": "view-in-github",
        "colab_type": "text"
      },
      "source": [
        "<a href=\"https://colab.research.google.com/github/saradhasarah12/Deep_Learning_project_Showcase/blob/main/Movie_Recommender_system_using_RBM_Deep_Learning.ipynb\" target=\"_parent\"><img src=\"https://colab.research.google.com/assets/colab-badge.svg\" alt=\"Open In Colab\"/></a>"
      ]
    },
    {
      "cell_type": "code",
      "source": [
        "import tensorflow as tf\n",
        "import numpy as np\n",
        "import pandas as pd\n",
        "import matplotlib.pyplot as plt"
      ],
      "metadata": {
        "id": "9LcU29vrjF-e"
      },
      "execution_count": null,
      "outputs": []
    },
    {
      "cell_type": "code",
      "source": [
        "movies_df = pd.read_csv('/content/movies.dat', encoding='latin-1',sep='::', header=None, engine='python')\n",
        "print(movies_df.head())\n"
      ],
      "metadata": {
        "colab": {
          "base_uri": "https://localhost:8080/"
        },
        "id": "ZpI0_SNLjM1e",
        "outputId": "f434cf9b-0608-4273-c761-fff8d0875e07"
      },
      "execution_count": null,
      "outputs": [
        {
          "output_type": "stream",
          "name": "stdout",
          "text": [
            "   0                                   1                             2\n",
            "0  1                    Toy Story (1995)   Animation|Children's|Comedy\n",
            "1  2                      Jumanji (1995)  Adventure|Children's|Fantasy\n",
            "2  3             Grumpier Old Men (1995)                Comedy|Romance\n",
            "3  4            Waiting to Exhale (1995)                  Comedy|Drama\n",
            "4  5  Father of the Bride Part II (1995)                        Comedy\n"
          ]
        }
      ]
    },
    {
      "cell_type": "code",
      "source": [
        "ratings_df = pd.read_csv('/content/ratings.dat', encoding='latin-1',sep='::',header=None, engine='python')\n",
        "print(ratings_df.head())"
      ],
      "metadata": {
        "colab": {
          "base_uri": "https://localhost:8080/"
        },
        "id": "5E8D5PkPkdcN",
        "outputId": "d6aa528c-cf14-46f4-ada8-2915503eb1ef"
      },
      "execution_count": null,
      "outputs": [
        {
          "output_type": "stream",
          "name": "stdout",
          "text": [
            "   0     1  2          3\n",
            "0  1  1193  5  978300760\n",
            "1  1   661  3  978302109\n",
            "2  1   914  3  978301968\n",
            "3  1  3408  4  978300275\n",
            "4  1  2355  5  978824291\n"
          ]
        }
      ]
    },
    {
      "cell_type": "code",
      "source": [
        "# Lets rename our columns in these data frames so we can convey their data better\n",
        "movies_df.columns = ['MovieID', 'Title', 'Genres']\n",
        "ratings_df.columns = ['UserID', 'MovieID', 'Rating', 'Timestamp']"
      ],
      "metadata": {
        "id": "P0qGYfbEkrfU"
      },
      "execution_count": null,
      "outputs": []
    },
    {
      "cell_type": "code",
      "source": [
        "print(movies_df.head())\n",
        "print(ratings_df.head())"
      ],
      "metadata": {
        "colab": {
          "base_uri": "https://localhost:8080/"
        },
        "id": "zy6_i9YnktIc",
        "outputId": "5cb0a574-2e22-4cf9-866b-3a0913964a91"
      },
      "execution_count": null,
      "outputs": [
        {
          "output_type": "stream",
          "name": "stdout",
          "text": [
            "   MovieID                               Title                        Genres\n",
            "0        1                    Toy Story (1995)   Animation|Children's|Comedy\n",
            "1        2                      Jumanji (1995)  Adventure|Children's|Fantasy\n",
            "2        3             Grumpier Old Men (1995)                Comedy|Romance\n",
            "3        4            Waiting to Exhale (1995)                  Comedy|Drama\n",
            "4        5  Father of the Bride Part II (1995)                        Comedy\n",
            "   UserID  MovieID  Rating  Timestamp\n",
            "0       1     1193       5  978300760\n",
            "1       1      661       3  978302109\n",
            "2       1      914       3  978301968\n",
            "3       1     3408       4  978300275\n",
            "4       1     2355       5  978824291\n"
          ]
        }
      ]
    },
    {
      "cell_type": "code",
      "source": [
        "print('The Number of Movies in Dataset', len(movies_df))"
      ],
      "metadata": {
        "colab": {
          "base_uri": "https://localhost:8080/"
        },
        "id": "0wYtK4ZwkwGl",
        "outputId": "1ef5a7da-7d83-4a57-d180-bed2de6bc8df"
      },
      "execution_count": null,
      "outputs": [
        {
          "output_type": "stream",
          "name": "stdout",
          "text": [
            "The Number of Movies in Dataset 3883\n"
          ]
        }
      ]
    },
    {
      "cell_type": "code",
      "source": [
        "movies_df['List Index'] = movies_df.index\n",
        "print(movies_df.head())\n",
        "\n",
        "# Merge movies_df with ratings_df by MovieID\n",
        "merged_df = movies_df.merge(ratings_df, on='MovieID')\n",
        "\n",
        "# Drop unnecessary columns\n",
        "merged_df = merged_df.drop('Timestamp', axis=1).drop('Title', axis=1).drop('Genres', axis=1)\n",
        "\n",
        "# Display the result\n",
        "print(merged_df.head())\n",
        "\n",
        "# Lets Group up the Users by their user ID's\n",
        "user_Group = merged_df.groupby('UserID')\n",
        "print(user_Group.head())"
      ],
      "metadata": {
        "colab": {
          "base_uri": "https://localhost:8080/"
        },
        "id": "pSB3wIzRk0sM",
        "outputId": "cf9442fc-f249-43c2-9c49-3819264856f2"
      },
      "execution_count": null,
      "outputs": [
        {
          "output_type": "stream",
          "name": "stdout",
          "text": [
            "   MovieID                               Title                        Genres  \\\n",
            "0        1                    Toy Story (1995)   Animation|Children's|Comedy   \n",
            "1        2                      Jumanji (1995)  Adventure|Children's|Fantasy   \n",
            "2        3             Grumpier Old Men (1995)                Comedy|Romance   \n",
            "3        4            Waiting to Exhale (1995)                  Comedy|Drama   \n",
            "4        5  Father of the Bride Part II (1995)                        Comedy   \n",
            "\n",
            "   List Index  \n",
            "0           0  \n",
            "1           1  \n",
            "2           2  \n",
            "3           3  \n",
            "4           4  \n",
            "   MovieID  List Index  UserID  Rating\n",
            "0        1           0       1       5\n",
            "1        1           0       6       4\n",
            "2        1           0       8       4\n",
            "3        1           0       9       5\n",
            "4        1           0      10       5\n",
            "        MovieID  List Index  UserID  Rating\n",
            "0             1           0       1       5\n",
            "1             1           0       6       4\n",
            "2             1           0       8       4\n",
            "3             1           0       9       5\n",
            "4             1           0      10       5\n",
            "...         ...         ...     ...     ...\n",
            "874890     3285        3216    1270       1\n",
            "883271     3357        3288    4896       5\n",
            "903916     3448        3379    4025       5\n",
            "928813     3548        3479     986       3\n",
            "933205     3568        3499    1226       3\n",
            "\n",
            "[30200 rows x 4 columns]\n"
          ]
        }
      ]
    },
    {
      "cell_type": "code",
      "source": [
        "# Amount of users used for training\n",
        "amountOfUsedUsers = 1000\n",
        "\n",
        "# Creating the training list\n",
        "trX = []\n",
        "\n",
        "# For each user in the group\n",
        "for userID, curUser in user_Group:\n",
        "\n",
        "    # Create a temp that stores every movie's rating\n",
        "    temp = [0]*len(movies_df)\n",
        "\n",
        "    # For each movie in curUser's movie list\n",
        "    for num, movie in curUser.iterrows():\n",
        "\n",
        "        # Divide the rating by 5 and store it\n",
        "        temp[movie['List Index']] = movie['Rating']/5.0\n",
        "\n",
        "    # Add the list of ratings into the training list\n",
        "    trX.append(temp)\n",
        "\n",
        "    # Check to see if we finished adding in the amount of users for training\n",
        "    if amountOfUsedUsers == 0:\n",
        "        break\n",
        "    amountOfUsedUsers -= 1\n",
        "print(trX)"
      ],
      "metadata": {
        "colab": {
          "base_uri": "https://localhost:8080/"
        },
        "id": "ssSzkBMok3jb",
        "outputId": "bef0a23a-e90e-4d88-b5d0-f825deb8c1be"
      },
      "execution_count": null,
      "outputs": [
        {
          "output_type": "stream",
          "name": "stderr",
          "text": [
            "IOPub data rate exceeded.\n",
            "The notebook server will temporarily stop sending output\n",
            "to the client in order to avoid crashing it.\n",
            "To change this limit, set the config variable\n",
            "`--NotebookApp.iopub_data_rate_limit`.\n",
            "\n",
            "Current values:\n",
            "NotebookApp.iopub_data_rate_limit=1000000.0 (bytes/sec)\n",
            "NotebookApp.rate_limit_window=3.0 (secs)\n",
            "\n"
          ]
        }
      ]
    },
    {
      "cell_type": "code",
      "source": [
        "import tensorflow.compat.v1 as tf\n",
        "\n",
        "tf.disable_v2_behavior()"
      ],
      "metadata": {
        "colab": {
          "base_uri": "https://localhost:8080/"
        },
        "id": "GxInamLKlZUM",
        "outputId": "b45fbb4e-2e6c-4a11-f904-2c5e8a78dae5"
      },
      "execution_count": null,
      "outputs": [
        {
          "output_type": "stream",
          "name": "stderr",
          "text": [
            "WARNING:tensorflow:From /usr/local/lib/python3.10/dist-packages/tensorflow/python/compat/v2_compat.py:107: disable_resource_variables (from tensorflow.python.ops.variable_scope) is deprecated and will be removed in a future version.\n",
            "Instructions for updating:\n",
            "non-resource variables are not supported in the long term\n"
          ]
        }
      ]
    },
    {
      "cell_type": "code",
      "source": [
        "              # Setting the models Parameters\n",
        "moviesddenUnitsnUnihiddenUnitsts = 50\n",
        "visibleUnits = len(movimoviesmoviesesmovies_df)\n",
        "vb = tf.placeholder(moviesCreate[visibleUnits])  # Number of unique movies\n",
        "hb = tf.placeholder(tf.float32, [hiddenUnits])  # Number of features were going to learn\n",
        "W = tf.placeholder(tf.float32, [visibleUnits, hiddenUnits])  # Weight Matrix\n",
        "\n",
        "# Phase 1: Input Processing\n",
        "v0 = tf.placeholder(\"float\", [None, visibleUnits])\n",
        "_h0 = tf.nn.sigmoid(tf.matmul(v0, W) + hb)  # Visible layer activation\n",
        "h0 = tf.nn.relu(tf.sign(_h0 - tf.random_uniform(tf.shape(_h0))))  # Gibb's Sampling\n",
        "\n",
        "# Phase 2: Reconstruction\n",
        "_v1 = tf.nn.sigmoid(tf.matmul(h0, tf.transpose(W)) + vb)  # Hidden layer activation\n",
        "v1 = tf.nn.relu(tf.sign(_v1 - tf.random_uniform(tf.shape(_v1))))\n",
        "h1 = tf.nn.sigmoid(tf.matmul(v1, W) + hb)"
      ],
      "metadata": {
        "id": "5ip6j88xk570"
      },
      "execution_count": null,
      "outputs": []
    },
    {
      "cell_type": "code",
      "source": [
        "# Learning rate\n",
        "alpha = 1.0\n",
        "\n",
        "# CreaCreatete the gradients\n",
        "w_pos_grad = tf.matmul(tf.transpose(v0), h0)\n",
        "w_neg_grad = tf.matmul(tf.transpose(v1), h1)\n",
        "\n",
        "# Calculate the Contrastive Divergence to maximize\n",
        "CD = (w_pos_grad - w_neg_grad) / tf.to_float(tf.shape(v0)[0])\n",
        "\n",
        "# Create methods to update the weights and biases\n",
        "update_w = W + alpha * CD\n",
        "update_vb = vb + alpha * tf.reduce_mean(v0 - v1, 0)\n",
        "update_hb = hb + alpha * tf.reduce_mean(h0 - h1, 0)\n",
        "\n",
        "# Set the error function, here we use Mean Absolute Error Function\n",
        "err = v0 - v1\n",
        "err_sum = tf.reduce_mean(err*err)"
      ],
      "metadata": {
        "colab": {
          "base_uri": "https://localhost:8080/"
        },
        "id": "0AlhkcJjk8Wd",
        "outputId": "c8ef8d87-4519-49b4-cb05-506959b19eed"
      },
      "execution_count": null,
      "outputs": [
        {
          "output_type": "stream",
          "name": "stderr",
          "text": [
            "WARNING:tensorflow:From /usr/local/lib/python3.10/dist-packages/tensorflow/python/util/dispatch.py:1176: to_float (from tensorflow.python.ops.math_ops) is deprecated and will be removed in a future version.\n",
            "Instructions for updating:\n",
            "Use `tf.cast` instead.\n"
          ]
        }
      ]
    },
    {
      "cell_type": "code",
      "source": [
        "# Current weight\n",
        "cur_w = np.zeros([visibleUnits, hiddenUnits], np.float32)\n",
        "\n",
        "# Current visible unit biases\n",
        "cur_vb = np.zeros([visibleUnits], np.float32)\n",
        "\n",
        "# Current hidden unit biases\n",
        "cur_hb = np.zeros([hiddenUnits], np.float32)\n",
        "\n",
        "# Previous weight\n",
        "prv_w = np.zeros([visibleUnits, hiddenUnits], np.float32)\n",
        "\n",
        "# Previous visible unit biases\n",
        "prv_vb = np.zeros([visibleUnits], np.float32)\n",
        "\n",
        "# Previous hidden unit biases\n",
        "prv_hb = np.zeros([hiddenUnits], np.float32)\n",
        "sess = tf.Session()\n",
        "sess.run(tf.global_variables_initializer())\n"
      ],
      "metadata": {
        "id": "HSYGQpvcmEUc"
      },
      "execution_count": null,
      "outputs": []
    },
    {
      "cell_type": "code",
      "source": [
        "\n",
        "# Train RBM with 15 Epochs, with Each Epoch using 10 batches with size 100, After training print out the error by epoch\n",
        "epochs = 15\n",
        "batchsize = 100\n",
        "errors = []\n",
        "for i in range(epochs):\n",
        "    for start, end in zip(range(0, len(trX), batchsize), range(batchsize, len(trX), batchsize)):\n",
        "        batch = trX[start:end]\n",
        "        cur_w = sess.run(update_w, feed_dict={v0: batch, W: prv_w, vb: prv_vb, hb: prv_hb})\n",
        "        cur_vb = sess.run(update_vb, feed_dict={v0: batch, W: prv_w, vb: prv_vb, hb: prv_hb})\n",
        "        cur_hb = sess.run(update_hb, feed_dict={v0: batch, W: prv_w, vb: prv_vb, hb: prv_hb})\n",
        "        prv_w = cur_w\n",
        "        prv_vb = cur_vb\n",
        "        prv_hb = cur_hb\n",
        "    errors.append(sess.run(err_sum, feed_dict={v0: trX, W: cur_w, vb: cur_vb, hb: cur_hb}))\n",
        "    print(errors[-1])\n",
        "plt.plot(errors)\n",
        "plt.ylabel('Error')\n",
        "plt.xlabel('Epoch')\n",
        "plt.show()"
      ],
      "metadata": {
        "colab": {
          "base_uri": "https://localhost:8080/",
          "height": 709
        },
        "id": "K7nsWeg4mG28",
        "outputId": "919b921f-4be1-4c64-edf7-5b2404356f16"
      },
      "execution_count": null,
      "outputs": [
        {
          "output_type": "stream",
          "name": "stdout",
          "text": [
            "0.12261943\n",
            "0.08223802\n",
            "0.068195246\n",
            "0.060697418\n",
            "0.05496743\n",
            "0.050348148\n",
            "0.046203904\n",
            "0.04471901\n",
            "0.04393329\n",
            "0.043201856\n",
            "0.042503763\n",
            "0.041874982\n",
            "0.041444454\n",
            "0.040959444\n",
            "0.04027895\n"
          ]
        },
        {
          "output_type": "display_data",
          "data": {
            "text/plain": [
              "<Figure size 640x480 with 1 Axes>"
            ],
            "image/png": "[encoded data removed]"
          },
          "metadata": {}
        }
      ]
    },
    {
      "cell_type": "code",
      "source": [
        "# Select the input User\n",
        "inputUser = [trX[50]]\n",
        "\n",
        "# Feeding in the User and Reconstructing the input\n",
        "hh0 = tf.nn.sigmoid(tf.matmul(v0, W) + hb)\n",
        "vv1 = tf.nn.sigmoid(tf.matmul(hh0, tf.transpose(W)) + vb)\n",
        "feed = sess.run(hh0, feed_dict={v0: inputUser, W: prv_w, hb: prv_hb})\n",
        "rec = sess.run(vv1, feed_dict={hh0: feed, W: prv_w, vb: prv_vb})\n",
        "\n",
        "# List the 20 most recommended movies for our mock user by sorting it by their scores given by our model.\n",
        "scored_movies_df_50 = movies_df\n",
        "scored_movies_df_50[\"Recommendation Score\"] = rec[0]\n",
        "print(scored_movies_df_50.sort_values([\"Recommendation Score\"], ascending=False).head(20))\n",
        "\n",
        "\"\"\" Recommend User what movies he has not watched yet \"\"\"\n",
        "\n",
        "# Find the mock user's UserID from the data\n",
        "print(merged_df.iloc[50])  # Result you get is UserID 150\n",
        "\n",
        "# Find all movies the mock user has watched before\n",
        "movies_df_50 = merged_df[merged_df['UserID'] == 150]\n",
        "print(movies_df_50.head())"
      ],
      "metadata": {
        "colab": {
          "base_uri": "https://localhost:8080/"
        },
        "id": "tt7jZ4RRmKSU",
        "outputId": "be3f19cf-b359-4273-8b21-5bf0f918aea6"
      },
      "execution_count": null,
      "outputs": [
        {
          "output_type": "stream",
          "name": "stdout",
          "text": [
            "      MovieID                                      Title  \\\n",
            "2789     2858                     American Beauty (1999)   \n",
            "1959     2028                 Saving Private Ryan (1998)   \n",
            "2327     2396                 Shakespeare in Love (1998)   \n",
            "315       318           Shawshank Redemption, The (1994)   \n",
            "589       593           Silence of the Lambs, The (1991)   \n",
            "476       480                       Jurassic Park (1993)   \n",
            "0           1                           Toy Story (1995)   \n",
            "257       260  Star Wars: Episode IV - A New Hope (1977)   \n",
            "1575     1617                   L.A. Confidential (1997)   \n",
            "108       110                          Braveheart (1995)   \n",
            "604       608                               Fargo (1996)   \n",
            "3509     3578                           Gladiator (2000)   \n",
            "523       527                    Schindler's List (1993)   \n",
            "3682     3751                         Chicken Run (2000)   \n",
            "3091     3160                            Magnolia (1999)   \n",
            "2693     2762                    Sixth Sense, The (1999)   \n",
            "2502     2571                         Matrix, The (1999)   \n",
            "2928     2997                Being John Malkovich (1999)   \n",
            "3684     3753                        Patriot, The (2000)   \n",
            "3045     3114                         Toy Story 2 (1999)   \n",
            "\n",
            "                                Genres  List Index  Recommendation Score  \n",
            "2789                      Comedy|Drama        2789              0.606120  \n",
            "1959                  Action|Drama|War        1959              0.463234  \n",
            "2327                    Comedy|Romance        2327              0.426684  \n",
            "315                              Drama         315              0.386096  \n",
            "589                     Drama|Thriller         589              0.382841  \n",
            "476            Action|Adventure|Sci-Fi         476              0.356826  \n",
            "0          Animation|Children's|Comedy           0              0.354203  \n",
            "257    Action|Adventure|Fantasy|Sci-Fi         257              0.350749  \n",
            "1575  Crime|Film-Noir|Mystery|Thriller        1575              0.344115  \n",
            "108                   Action|Drama|War         108              0.328158  \n",
            "604               Crime|Drama|Thriller         604              0.326250  \n",
            "3509                      Action|Drama        3509              0.321378  \n",
            "523                          Drama|War         523              0.317918  \n",
            "3682       Animation|Children's|Comedy        3682              0.310340  \n",
            "3091                             Drama        3091              0.290359  \n",
            "2693                          Thriller        2693              0.286275  \n",
            "2502            Action|Sci-Fi|Thriller        2502              0.276285  \n",
            "2928                            Comedy        2928              0.258421  \n",
            "3684                  Action|Drama|War        3684              0.257336  \n",
            "3045       Animation|Children's|Comedy        3045              0.228331  \n",
            "MovieID         1\n",
            "List Index      0\n",
            "UserID        150\n",
            "Rating          4\n",
            "Name: 50, dtype: int64\n",
            "       MovieID  List Index  UserID  Rating\n",
            "50           1           0     150       4\n",
            "11866       24          23     150       4\n",
            "12492       25          24     150       4\n",
            "15967       34          33     150       5\n",
            "36528      111         109     150       4\n"
          ]
        }
      ]
    },
    {
      "cell_type": "code",
      "source": [
        "\n",
        "# Merging movies_df with ratings_df by MovieID\n",
        "merged_df_50 = scored_movies_df_50.merge(movies_df_50, on='MovieID', how='outer')\n",
        "\n",
        "# Dropping unnecessary columns\n",
        "merged_df_50 = merged_df_50.drop('List Index_y', axis=1).drop('UserID', axis=1)\n",
        "\n",
        "# Sort and take a look at first 20 rows\n",
        "print(merged_df_50.sort_values(['Recommendation Score'], ascending=False).head(20))"
      ],
      "metadata": {
        "colab": {
          "base_uri": "https://localhost:8080/"
        },
        "id": "RXyjSW1KmMcM",
        "outputId": "7d551f25-5c6b-4751-a6c9-2d7259877562"
      },
      "execution_count": null,
      "outputs": [
        {
          "output_type": "stream",
          "name": "stdout",
          "text": [
            "      MovieID                                      Title  \\\n",
            "2789     2858                     American Beauty (1999)   \n",
            "1959     2028                 Saving Private Ryan (1998)   \n",
            "2327     2396                 Shakespeare in Love (1998)   \n",
            "315       318           Shawshank Redemption, The (1994)   \n",
            "589       593           Silence of the Lambs, The (1991)   \n",
            "476       480                       Jurassic Park (1993)   \n",
            "0           1                           Toy Story (1995)   \n",
            "257       260  Star Wars: Episode IV - A New Hope (1977)   \n",
            "1575     1617                   L.A. Confidential (1997)   \n",
            "108       110                          Braveheart (1995)   \n",
            "604       608                               Fargo (1996)   \n",
            "3509     3578                           Gladiator (2000)   \n",
            "523       527                    Schindler's List (1993)   \n",
            "3682     3751                         Chicken Run (2000)   \n",
            "3091     3160                            Magnolia (1999)   \n",
            "2693     2762                    Sixth Sense, The (1999)   \n",
            "2502     2571                         Matrix, The (1999)   \n",
            "2928     2997                Being John Malkovich (1999)   \n",
            "3684     3753                        Patriot, The (2000)   \n",
            "3045     3114                         Toy Story 2 (1999)   \n",
            "\n",
            "                                Genres  List Index_x  Recommendation Score  \\\n",
            "2789                      Comedy|Drama          2789              0.606120   \n",
            "1959                  Action|Drama|War          1959              0.463234   \n",
            "2327                    Comedy|Romance          2327              0.426684   \n",
            "315                              Drama           315              0.386096   \n",
            "589                     Drama|Thriller           589              0.382841   \n",
            "476            Action|Adventure|Sci-Fi           476              0.356826   \n",
            "0          Animation|Children's|Comedy             0              0.354203   \n",
            "257    Action|Adventure|Fantasy|Sci-Fi           257              0.350749   \n",
            "1575  Crime|Film-Noir|Mystery|Thriller          1575              0.344115   \n",
            "108                   Action|Drama|War           108              0.328158   \n",
            "604               Crime|Drama|Thriller           604              0.326250   \n",
            "3509                      Action|Drama          3509              0.321378   \n",
            "523                          Drama|War           523              0.317918   \n",
            "3682       Animation|Children's|Comedy          3682              0.310340   \n",
            "3091                             Drama          3091              0.290359   \n",
            "2693                          Thriller          2693              0.286275   \n",
            "2502            Action|Sci-Fi|Thriller          2502              0.276285   \n",
            "2928                            Comedy          2928              0.258421   \n",
            "3684                  Action|Drama|War          3684              0.257336   \n",
            "3045       Animation|Children's|Comedy          3045              0.228331   \n",
            "\n",
            "      Rating  \n",
            "2789     5.0  \n",
            "1959     5.0  \n",
            "2327     5.0  \n",
            "315      5.0  \n",
            "589      5.0  \n",
            "476      4.0  \n",
            "0        4.0  \n",
            "257      4.0  \n",
            "1575     4.0  \n",
            "108      NaN  \n",
            "604      5.0  \n",
            "3509     5.0  \n",
            "523      4.0  \n",
            "3682     4.0  \n",
            "3091     3.0  \n",
            "2693     4.0  \n",
            "2502     4.0  \n",
            "2928     4.0  \n",
            "3684     NaN  \n",
            "3045     NaN  \n"
          ]
        }
      ]
    },
    {
      "cell_type": "code",
      "source": [],
      "metadata": {
        "id": "5MUbkB9_kTbF"
      },
      "execution_count": null,
      "outputs": []
    }
  ]
}