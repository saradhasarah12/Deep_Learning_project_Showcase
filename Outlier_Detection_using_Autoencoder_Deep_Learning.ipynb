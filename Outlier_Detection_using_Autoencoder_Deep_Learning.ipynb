{
  "nbformat": 4,
  "nbformat_minor": 0,
  "metadata": {
    "colab": {
      "provenance": [],
      "authorship_tag": "ABX9TyMhhfIPZPiT8ftqEUd5Z9vd",
      "include_colab_link": true
    },
    "kernelspec": {
      "name": "python3",
      "display_name": "Python 3"
    },
    "language_info": {
      "name": "python"
    }
  },
  "cells": [
    {
      "cell_type": "markdown",
      "metadata": {
        "id": "view-in-github",
        "colab_type": "text"
      },
      "source": [
        "<a href=\"https://colab.research.google.com/github/saradhasarah12/Deep_Learning_project_Showcase/blob/main/Outlier_Detection_using_Autoencoder_Deep_Learning.ipynb\" target=\"_parent\"><img src=\"https://colab.research.google.com/assets/colab-badge.svg\" alt=\"Open In Colab\"/></a>"
      ]
    },
    {
      "cell_type": "code",
      "execution_count": null,
      "metadata": {
        "id": "2GbOJFZniN-A"
      },
      "outputs": [],
      "source": [
        "from sklearn.datasets import make_classification\n",
        "import pandas as pd\n",
        "import numpy as np\n",
        "from collections import Counter\n",
        "import matplotlib.pyplot as plt\n",
        "import seaborn as sns\n",
        "from sklearn.model_selection import train_test_split\n",
        "import tensorflow as tf\n",
        "from tensorflow.keras import layers, losses\n",
        "from sklearn.metrics import classification_report\n",
        "\n",
        "# Create Dataset with Outliers\n",
        "X, y = make_classification(n_samples=100000, n_features=32, n_informative=32, n_redundant=0, n_repeated=0, n_classes=2,\n",
        "                           n_clusters_per_class=1,\n",
        "                           weights=[0.995, 0.005],\n",
        "                           class_sep=0.5, random_state=0)\n",
        "\n",
        "# Split the dataset\n",
        "X_train, X_test, y_train, y_test = train_test_split(X, y, test_size=0.2, random_state=42)\n",
        "\n",
        "# Check the number of records\n",
        "print('The number of records in the training dataset is', X_train.shape[0])\n",
        "print('The number of records in the test dataset is', X_test.shape[0])\n",
        "print(f\"The training dataset has {sorted(Counter(y_train).items())[0][1]} records for the majority class and {sorted(Counter(y_train).items())[1][1]} records for the minority class.\")\n",
        "\n",
        "# Create Autoencoder model for training\n",
        "X_train_normal = X_train[np.where(y_train == 0)]\n",
        "\n",
        "input_layer = tf.keras.layers.Input(shape=(32,))\n",
        "encoder = tf.keras.Sequential([\n",
        "    layers.Dense(16, activation='relu'),\n",
        "    layers.Dense(8, activation='relu'),\n",
        "    layers.Dense(4, activation='relu')\n",
        "])(input_layer)\n",
        "decoder = tf.keras.Sequential([\n",
        "    layers.Dense(8, activation=\"relu\"),\n",
        "    layers.Dense(16, activation=\"relu\"),\n",
        "    layers.Dense(32, activation=\"sigmoid\")\n",
        "])(encoder)\n",
        "\n",
        "autoencoder = tf.keras.Model(inputs=input_layer, outputs=decoder)\n",
        "\n",
        "# Compile the autoencoder\n",
        "autoencoder.compile(optimizer='adam', loss='mae')\n",
        "\n",
        "# Fit the autoencoder\n",
        "history = autoencoder.fit(X_train_normal, X_train_normal,\n",
        "                          epochs=20,\n",
        "                          batch_size=64,\n",
        "                          validation_data=(X_test, X_test),\n",
        "                          shuffle=True)\n",
        "\n",
        "# Visualize the Training and validation Loss\n",
        "plt.plot(history.history[\"loss\"], label=\"Training Loss\")\n",
        "plt.plot(history.history[\"val_loss\"], label=\"Validation Loss\")\n",
        "plt.legend()\n",
        "\n",
        "# Setting Threshold to identify the anomalies\n",
        "prediction = autoencoder.predict(X_test)\n",
        "prediction_loss = tf.keras.losses.mae(prediction, X_test)\n",
        "loss_threshold = np.percentile(prediction_loss, 98)\n",
        "print(f'The prediction loss threshold for 2% of outliers is {loss_threshold:.2f}')\n",
        "\n",
        "sns.histplot(prediction_loss, bins=30, alpha=0.8)\n",
        "plt.axvline(x=loss_threshold, color='orange')\n",
        "\n",
        "# Performance evaluation of the encoder model\n",
        "threshold_prediction = [0 if i < loss_threshold else 1 for i in prediction_loss]\n",
        "print(classification_report(y_test, threshold_prediction))\n"
      ]
    }
  ]
}